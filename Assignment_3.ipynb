{
 "cells": [
  {
   "cell_type": "markdown",
   "id": "2db957c2-fe87-467e-be9f-4ec9fc5ddc69",
   "metadata": {},
   "source": [
    " ### Q.1) Create 2 lists from a given list where \n",
    "### 1st list will contain all the odd numbers from the original list and\n",
    "### the 2nd one will contain all the even numbers\n",
    "L = [1,2,3,4,5,6]"
   ]
  },
  {
   "cell_type": "code",
   "execution_count": 23,
   "id": "57d1c86b-1bed-4348-95cc-1f7dda83427c",
   "metadata": {},
   "outputs": [
    {
     "name": "stdout",
     "output_type": "stream",
     "text": [
      "Odd numbers are:[1, 3, 5] \n",
      "Even numbers are:[0, 2, 4, 6]\n"
     ]
    }
   ],
   "source": [
    "l=[1,2,3,4,5,6]\n",
    "on=[]\n",
    "en=[]\n",
    "for i in range(0,7):\n",
    "    if i%2==0:\n",
    "        en.append(i)\n",
    "        \n",
    "    else: \n",
    "        on.append(i)\n",
    "print(\"Odd numbers are:{0} \".format(on))        \n",
    "print(\"Even numbers are:{0}\".format(en))"
   ]
  },
  {
   "cell_type": "markdown",
   "id": "fa06da59-56a6-453e-be35-ff5af1ba8370",
   "metadata": {},
   "source": [
    "\n",
    "### Q2) How to take list as input from user"
   ]
  },
  {
   "cell_type": "code",
   "execution_count": 24,
   "id": "73b0f27e-5808-4d6a-b8c0-139653076da6",
   "metadata": {},
   "outputs": [
    {
     "name": "stdout",
     "output_type": "stream",
     "text": [
      "Enter length of list: \n"
     ]
    },
    {
     "name": "stdin",
     "output_type": "stream",
     "text": [
      " 5\n",
      " 1\n",
      " 2\n",
      " 3\n",
      " 4\n",
      " 5\n"
     ]
    },
    {
     "name": "stdout",
     "output_type": "stream",
     "text": [
      "[1, 2, 3, 4, 5]\n"
     ]
    }
   ],
   "source": [
    "x=[] #empty list\n",
    "print(\"Enter length of list: \")\n",
    "n=int(input())\n",
    "for i in range(n):\n",
    "    x.append(int(input()))\n",
    "print(x)"
   ]
  },
  {
   "cell_type": "markdown",
   "id": "b4bffd06-a6e7-47a8-babc-fe4940f6e673",
   "metadata": {},
   "source": [
    "### Q3)Write a program to merge 2 list without using the + operator\n",
    "L1 = [1,2,3,4]    \n",
    "L2 = [5,6,7,8]\n",
    "\n"
   ]
  },
  {
   "cell_type": "code",
   "execution_count": 25,
   "id": "7756132a-2107-499f-928e-cff463ef55c0",
   "metadata": {},
   "outputs": [
    {
     "name": "stdout",
     "output_type": "stream",
     "text": [
      "[1, 2, 3, 4, 5, 6, 7, 8]\n"
     ]
    }
   ],
   "source": [
    "li=[1,2,3,4]\n",
    "l2=[5,6,7,8]\n",
    "li.extend(l2)\n",
    "print(li)"
   ]
  },
  {
   "cell_type": "markdown",
   "id": "04319ff5-c420-487a-8e3c-7006aed24623",
   "metadata": {},
   "source": [
    "### Q4) Write a program to replace an item with a different item if found in the list \n",
    "L = [1,2,3,4,5,3]\n",
    "# replace 3 with 300"
   ]
  },
  {
   "cell_type": "code",
   "execution_count": 30,
   "id": "c9a9abc3-7b75-4e2f-ac0f-81049a666252",
   "metadata": {},
   "outputs": [
    {
     "name": "stdout",
     "output_type": "stream",
     "text": [
      "[1, 2, 300, 4, 5, 300]\n"
     ]
    }
   ],
   "source": [
    "l=[1,2,3,4,5,3]\n",
    "for i in range(0,6):\n",
    "    if l[i]==3:\n",
    "        l[i]=300\n",
    "\n",
    "print(l)"
   ]
  },
  {
   "cell_type": "markdown",
   "id": "1c99408d-9d06-4aa3-bd82-b50fab16c57f",
   "metadata": {},
   "source": [
    "### Q5) Write a program that can convert 2D list into 1D list"
   ]
  },
  {
   "cell_type": "code",
   "execution_count": 1,
   "id": "c8792331-c9e7-47ec-9176-14e83a44b719",
   "metadata": {},
   "outputs": [
    {
     "name": "stdout",
     "output_type": "stream",
     "text": [
      "[1, 2, 3, 4, 5, 6]\n"
     ]
    }
   ],
   "source": [
    "l=[[1],[2],[3],[4],[5],[6]]\n",
    "l1=[]\n",
    "for i in l:\n",
    "    for temp in i:\n",
    "        l1.append(temp)\n",
    "\n",
    "print(l1)"
   ]
  },
  {
   "cell_type": "markdown",
   "id": "57aca89e-6121-43d6-881b-6ba6638c84cf",
   "metadata": {},
   "source": [
    "## Q6) Write a program to remove duplicate items from the list\n",
    "L=[1,2,1,2,3,4,5,3,4]"
   ]
  },
  {
   "cell_type": "code",
   "execution_count": 3,
   "id": "c5259440-5172-474f-ba17-dacf261df74c",
   "metadata": {},
   "outputs": [
    {
     "name": "stdout",
     "output_type": "stream",
     "text": [
      "Original list:  [1, 2, 1, 2, 3, 4, 5, 3, 4]\n",
      "[1, 2, 3, 4, 5]\n"
     ]
    }
   ],
   "source": [
    "l=[1,2,1,2,3,4,5,3,4]\n",
    "print(\"Original list: \",l)\n",
    "l1=list(set(l))\n",
    "print(l1)"
   ]
  },
  {
   "cell_type": "markdown",
   "id": "7516eb67-d15d-4c37-9d28-8db9166b8d64",
   "metadata": {},
   "source": [
    "## Q7) Write a program to check if a list is in ascending order or not"
   ]
  },
  {
   "cell_type": "code",
   "execution_count": 4,
   "id": "900ab4f9-46a0-4285-ba47-a6b798cc0249",
   "metadata": {},
   "outputs": [
    {
     "name": "stdout",
     "output_type": "stream",
     "text": [
      "Original list:  [1, 2, 3, 4, 5]\n",
      "Sorted\n"
     ]
    }
   ],
   "source": [
    "l1=[1,2,3,4,5]\n",
    "print(\"Original list: \",l1)\n",
    "temp=0\n",
    "l2=l1[:]\n",
    "l2.sort()\n",
    "if l2==l1:\n",
    "    temp=1\n",
    "\n",
    "if (temp):\n",
    "    print(\"Sorted\")\n",
    "\n",
    "else:\n",
    "    print(\"List is not in ascending order\")"
   ]
  },
  {
   "cell_type": "code",
   "execution_count": null,
   "id": "1827c191-2204-4ec0-98e2-8617461808ab",
   "metadata": {},
   "outputs": [],
   "source": []
  }
 ],
 "metadata": {
  "kernelspec": {
   "display_name": "Python 3 (ipykernel)",
   "language": "python",
   "name": "python3"
  },
  "language_info": {
   "codemirror_mode": {
    "name": "ipython",
    "version": 3
   },
   "file_extension": ".py",
   "mimetype": "text/x-python",
   "name": "python",
   "nbconvert_exporter": "python",
   "pygments_lexer": "ipython3",
   "version": "3.11.7"
  }
 },
 "nbformat": 4,
 "nbformat_minor": 5
}
